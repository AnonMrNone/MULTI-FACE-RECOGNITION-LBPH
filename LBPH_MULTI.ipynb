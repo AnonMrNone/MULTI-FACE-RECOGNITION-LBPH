{
 "cells": [
  {
   "cell_type": "code",
   "execution_count": null,
   "metadata": {},
   "outputs": [],
   "source": [
    "#creating dataset\n",
    "import cv2\n",
    "import os\n",
    "cam = cv2.VideoCapture(0)\n",
    "face_detector = cv2.CascadeClassifier('haarcascade_frontalface_default.xml')\n",
    "face_id = 1\n",
    "count = 0\n",
    "\n",
    "while(True):\n",
    "    _, image_frame = cam.read()\n",
    "    gray = cv2.cvtColor(image_frame, cv2.COLOR_BGR2GRAY)\n",
    "    faces = face_detector.detectMultiScale(gray, 1.3, 5)\n",
    "    for (x,y,w,h) in faces:\n",
    "        cv2.rectangle(image_frame, (x,y), (x+w,y+h), (255,0,0), 2)\n",
    "        count += 1\n",
    "        cv2.imwrite(\"F:/LWSummer2021/OpenCV/face_detection/faces_dataset_multi/person.\" + str(face_id) + '.' + str(count) + \".jpg\", gray[y:y+h,x:x+w])\n",
    "        cv2.imshow('frame', image_frame)\n",
    "\n",
    "    if cv2.waitKey(1) == 27 or count == 500:\n",
    "        break\n",
    "\n",
    "cam.release()\n",
    "cv2.destroyAllWindows()"
   ]
  },
  {
   "cell_type": "code",
   "execution_count": null,
   "metadata": {},
   "outputs": [],
   "source": [
    "#training\n",
    "import numpy as np\n",
    "from PIL import Image\n",
    "\n",
    "recognizer = cv2.face.LBPHFaceRecognizer_create()\n",
    "detector = cv2.CascadeClassifier(\"haarcascade_frontalface_default.xml\");\n",
    "\n",
    "def getImagesAndLabels(path):\n",
    "    imagePaths = [os.path.join(path,f) for f in os.listdir(path)] \n",
    "    faceSamples=[]\n",
    "    ids = []\n",
    "    for imagePath in imagePaths:\n",
    "        PIL_img = Image.open(imagePath).convert('L')\n",
    "        img_numpy = np.array(PIL_img,'uint8')\n",
    "        id = int(os.path.split(imagePath)[-1].split(\".\")[1])\n",
    "        faces = detector.detectMultiScale(img_numpy)\n",
    "        for (x,y,w,h) in faces:\n",
    "            faceSamples.append(img_numpy[y:y+h,x:x+w])\n",
    "            ids.append(id)\n",
    "    return faceSamples,ids\n",
    "\n",
    "\n",
    "faces,ids = getImagesAndLabels('F:/LWSummer2021/OpenCV/face_detection/faces_dataset_multi/')\n",
    "recognizer.train(faces, np.array(ids))\n",
    "recognizer.write('home.pkl')"
   ]
  },
  {
   "cell_type": "code",
   "execution_count": 6,
   "metadata": {},
   "outputs": [
    {
     "name": "stdout",
     "output_type": "stream",
     "text": [
      "<Twilio.Api.V2010.MessageInstance account_sid=AC9241044fa832e6612bd33c681a7cd025 sid=SM9909ec56e9c343fc8545a7f370317649>\n",
      "Sent Successful\n",
      "Instance created and 5 GB EBS Volume Attached\n",
      "<Twilio.Api.V2010.MessageInstance account_sid=AC9241044fa832e6612bd33c681a7cd025 sid=SM27ac17e5bac74370b0f6eb2f88ae7717>\n",
      "Sent Successful\n"
     ]
    }
   ],
   "source": [
    "#recognizing\n",
    "import cv2\n",
    "import os\n",
    "import whatsapp_email\n",
    "import aws_instance_ebs\n",
    "recognizer = cv2.face.LBPHFaceRecognizer_create()\n",
    "recognizer.read('home.pkl')\n",
    "faceCascade = cv2.CascadeClassifier(\"haarcascade_frontalface_default.xml\");\n",
    "cam = cv2.VideoCapture(0)\n",
    "id1_send_count = 1\n",
    "id2_send_count = 1\n",
    "while True:\n",
    "    ret, im =cam.read()\n",
    "    gray = cv2.cvtColor(im,cv2.COLOR_BGR2GRAY)\n",
    "    faces = faceCascade.detectMultiScale(gray, 1.2,5) \n",
    "    for(x,y,w,h) in faces:\n",
    "        cv2.rectangle(im, (x-20,y-20), (x+w+20,y+h+20), (0,255,0), 4)\n",
    "        Id, confidence = recognizer.predict(gray[y:y+h,x:x+w])  \n",
    "\n",
    "        if Id == 1:\n",
    "            Id = \"Hey Shubham\"\n",
    "            if id1_send_count == 1:\n",
    "                print(whatsapp_email.whatsapp_msg(account_sid,account_key).send_msg(\"Shubham Bhalala is using your system! AWS Instance Created\"))\n",
    "                print(whatsapp_email.email_msg(\"FACE DETECTED of Shubham Bhalala, AWS Instance created\",'sb5664@srmist.edu.in','shubhambhalala@gmail.com',gmail_password).send_msg())\n",
    "                print(aws_instance_ebs.create_instance_ebs())\n",
    "                id1_send_count = 0\n",
    "        elif Id == 2 :\n",
    "            Id = \"Hey Dhyey\"\n",
    "            if id2_send_count == 1:\n",
    "                print(whatsapp_email.whatsapp_msg(account_sid,account_key).send_msg(\"Dhyey Bhalala is using your system!\"))\n",
    "                print(whatsapp_email.email_msg(\"FACE DETECTED of Dhyey Bhalala\",'sb5664@srmist.edu.in','shubhambhalala@gmail.com',gmail_password).send_msg())\n",
    "                id2_send_count = 0\n",
    "        else:\n",
    "            pass\n",
    "\n",
    "        cv2.rectangle(im, (x-22,y-90), (x+w+22, y-22), (0,255,0), -1)\n",
    "        cv2.putText(im, str(Id), (x,y-40), cv2.FONT_HERSHEY_SIMPLEX, 1, (255,255,255), 3)\n",
    "\n",
    "    cv2.imshow('im',im) \n",
    "\n",
    "    if cv2.waitKey(1) == 27:\n",
    "        break\n",
    "\n",
    "cam.release()\n",
    "cv2.destroyAllWindows()"
   ]
  }
 ],
 "metadata": {
  "kernelspec": {
   "display_name": "Python 3",
   "language": "python",
   "name": "python3"
  },
  "language_info": {
   "codemirror_mode": {
    "name": "ipython",
    "version": 3
   },
   "file_extension": ".py",
   "mimetype": "text/x-python",
   "name": "python",
   "nbconvert_exporter": "python",
   "pygments_lexer": "ipython3",
   "version": "3.7.4"
  }
 },
 "nbformat": 4,
 "nbformat_minor": 2
}
